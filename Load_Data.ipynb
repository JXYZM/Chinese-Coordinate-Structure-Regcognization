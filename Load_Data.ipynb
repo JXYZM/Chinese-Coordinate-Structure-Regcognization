{
 "cells": [
  {
   "cell_type": "markdown",
   "metadata": {},
   "source": [
    "#从对应的txt文件中读取word向量表和训练数据集\n",
    "#embedding:words对应的150维向量(float)\n",
    "#train_words:训练并列短语(string)\n",
    "#train_types:训练并列短语每个词的词性(string)\n",
    "#train_labels:训练并列短语对应的标记(int)"
   ]
  },
  {
   "cell_type": "code",
   "execution_count": 29,
   "metadata": {
    "collapsed": true,
    "deletable": true,
    "editable": true
   },
   "outputs": [],
   "source": [
    "import pandas as pd\n",
    "import numpy as np\n",
    "import math\n",
    "import theano\n",
    "from sklearn import datasets\n",
    "import pylab\n",
    "import theano.tensor as T"
   ]
  },
  {
   "cell_type": "code",
   "execution_count": 3,
   "metadata": {
    "collapsed": false,
    "deletable": true,
    "editable": true
   },
   "outputs": [
    {
     "name": "stdout",
     "output_type": "stream",
     "text": [
      "1111\n",
      "here\n",
      "22222222\n"
     ]
    }
   ],
   "source": [
    "#load embedding\n",
    "embedding = pd.read_csv('embedding.csv')\n",
    "embedding.index = embedding['Unnamed: 0'].tolist()\n",
    "del embedding['Unnamed: 0']\n",
    "\n",
    "\n",
    "#load training context\n",
    "train_context_f = open('coodinate_data_150/train/context.txt')\n",
    "train_context_input = train_context_f.readlines()\n",
    "n = 0\n",
    "train_words = [([\"unknown\"]*6) for i in range(int(len(train_context_input)/3))]\n",
    "train_types = [([\"unknown\"]*6) for i in range(int(len(train_context_input)/3))]\n",
    "words_index = 0\n",
    "types_index = 0\n",
    "while n < len(train_context_input):\n",
    "    t = train_context_input[n].split()\n",
    "    if n%3==0:\n",
    "        for i in range(0,6):\n",
    "            train_words[words_index][i] = t[i]\n",
    "        words_index = words_index + 1\n",
    "    elif n%3==1:\n",
    "        for i in range(0,6):                                \n",
    "            train_types[types_index][i] = t[i]\n",
    "        types_index = types_index + 1\n",
    "    n = n + 1\n",
    "    \n",
    "#load training labels\n",
    "train_label_f = open('coodinate_data_150/train/labels.txt')\n",
    "train_label_input = train_label_f.readlines()\n",
    "n = 0\n",
    "train_labels = [([-1]*3) for i in range(len(train_label_input))]\n",
    "while n < len(train_label_input):\n",
    "    t = train_label_input[n].split()\n",
    "    for i in range(0,3):\n",
    "        train_labels[n][i] = int(t[i])\n",
    "    n = n + 1\n",
    "    "
   ]
  },
  {
   "cell_type": "code",
   "execution_count": 27,
   "metadata": {
    "collapsed": false,
    "deletable": true,
    "editable": true
   },
   "outputs": [],
   "source": [
    "#embedding.ix[train_types[0][0]]"
   ]
  },
  {
   "cell_type": "code",
   "execution_count": 60,
   "metadata": {
    "collapsed": true
   },
   "outputs": [],
   "source": [
    "#计算余弦距离的函数\n",
    "def cosine_dis(vector1,vector2):\n",
    "    '''\n",
    "    @vector1 and @vector2 are two input vectors\n",
    "    @Return the cosine distance between two vectors\n",
    "    '''\n",
    "    \n",
    "    mm = 0\n",
    "    for i in range(0,len(vector1)):\n",
    "        mm = mm + vector1[i]*vector2[i]\n",
    "    dd1 = 0\n",
    "    dd2 = 0\n",
    "    for i in range(0,len(vector1)):\n",
    "        dd1 = dd1 + vector1[i]*vector1[i]\n",
    "        dd2 = dd2 + vector2[i]*vector2[i]\n",
    "    dd1 = math.sqrt(dd1)\n",
    "    dd2 = math.sqrt(dd2)\n",
    "    result = mm/(dd1*dd2)\n",
    "    return result\n",
    "\n"
   ]
  },
  {
   "cell_type": "code",
   "execution_count": 17,
   "metadata": {
    "collapsed": false,
    "deletable": true,
    "editable": true
   },
   "outputs": [],
   "source": [
    "#TODO: 根据词性来训练\n",
    "#余弦距离的定义\n",
    "#距离度量标准？？？\n",
    "\n",
    "    \n",
    "#第一步：单纯以context中对应位置的词性作为训练标准\n",
    "#第二步：在词性的基础上加入词汇\n",
    "#第三步：选取更多的度量方法\n"
   ]
  },
  {
   "cell_type": "code",
   "execution_count": 59,
   "metadata": {
    "collapsed": false,
    "deletable": true,
    "editable": true
   },
   "outputs": [],
   "source": [
    "#神经网络模型\n",
    "\n",
    "#embedding.ix[train_types[0][0]]\n"
   ]
  },
  {
   "cell_type": "code",
   "execution_count": 63,
   "metadata": {
    "collapsed": false
   },
   "outputs": [],
   "source": [
    "a = cosine_dis([1,2,3],[4,7,5])    "
   ]
  }
 ],
 "metadata": {
  "kernelspec": {
   "display_name": "Python 3",
   "language": "python",
   "name": "python3"
  },
  "language_info": {
   "codemirror_mode": {
    "name": "ipython",
    "version": 3
   },
   "file_extension": ".py",
   "mimetype": "text/x-python",
   "name": "python",
   "nbconvert_exporter": "python",
   "pygments_lexer": "ipython3",
   "version": "3.5.2"
  }
 },
 "nbformat": 4,
 "nbformat_minor": 2
}
